{
 "cells": [
  {
   "cell_type": "markdown",
   "metadata": {},
   "source": [
    "# Python - Crash Course\n",
    "**Part 3 - Functions**\n",
    "\n",
    "**DRAFT**"
   ]
  },
  {
   "cell_type": "code",
   "execution_count": 17,
   "metadata": {},
   "outputs": [
    {
     "name": "stdout",
     "output_type": "stream",
     "text": [
      "Welcome, Andzia!\n",
      "Please, take down your shoes.\n"
     ]
    }
   ],
   "source": [
    "def welcome_someone(name):\n",
    "    print(f\"Welcome, {name}!\")\n",
    "\n",
    "\n",
    "def polish_welcome(name, clean_floor=False):\n",
    "    welcome_someone(name)\n",
    "    if clean_floor:\n",
    "        print(\"Please, take down your shoes.\")\n",
    "    else:\n",
    "        print(\"Plaese, don't take down your shoes. It's dirty anyway!\")\n",
    "        \n",
    "\n",
    "polish_welcome(\"Andzia\", clean_floor=True)"
   ]
  },
  {
   "cell_type": "code",
   "execution_count": 18,
   "metadata": {},
   "outputs": [
    {
     "name": "stdout",
     "output_type": "stream",
     "text": [
      "Delta wielomianu x^2 + 4x + 4 wynosi 0\n"
     ]
    }
   ],
   "source": [
    "def delta(a, b, c):\n",
    "    return b**2 - 4*a*c\n",
    "\n",
    "\n",
    "# x^2 + 4x + 4\n",
    "print(f'Delta wielomianu x^2 + 4x + 4 wynosi {delta(1, 4, 4)}')"
   ]
  },
  {
   "cell_type": "code",
   "execution_count": 29,
   "metadata": {},
   "outputs": [
    {
     "name": "stdout",
     "output_type": "stream",
     "text": [
      "Rzeczywiste pierwiastki x^2 + 4x + 4 wynoszą -2.0\n"
     ]
    }
   ],
   "source": [
    "from math import sqrt\n",
    "\n",
    "def roots(a, b, c):\n",
    "    def delta():\n",
    "        return b**2 - 4*a*c\n",
    "    \n",
    "    delta_value = delta()\n",
    "    \n",
    "    if delta_value < 0:\n",
    "        return \"No rational roots\"  # lepiej, gdyby był tutaj None\n",
    "    elif delta_value == 0:\n",
    "        x0 = -b/(2*a)\n",
    "        return x0\n",
    "    else:\n",
    "        delta_square = sqrt(delta_value)\n",
    "        x1 = (-b - delta_square)/(2*a)\n",
    "        x2 = (-b + delta_square)/(2*a)\n",
    "        return x1, x2\n",
    "    \n",
    "print(f'Rzeczywiste pierwiastki x^2 + 4x + 4 wynoszą {roots(1, 4, 4)}')"
   ]
  },
  {
   "cell_type": "code",
   "execution_count": 20,
   "metadata": {},
   "outputs": [
    {
     "name": "stdout",
     "output_type": "stream",
     "text": [
      "Welcome, Daria!\n",
      "The return value of `welcome_someone` is None\n"
     ]
    }
   ],
   "source": [
    "spam = welcome_someone(\"Daria\")\n",
    "\n",
    "print(f'The return value of `welcome_someone` is {spam}')"
   ]
  },
  {
   "cell_type": "markdown",
   "metadata": {},
   "source": [
    "**Shadowing and CallStack**"
   ]
  },
  {
   "cell_type": "code",
   "execution_count": 21,
   "metadata": {},
   "outputs": [
    {
     "name": "stdout",
     "output_type": "stream",
     "text": [
      "Jestem x-em w funkcji. Równam się 10\n",
      "Jestem x-em w funkcji po zmianie. Równam się 12\n",
      "Po wyjściu z funkcji równam sie 10\n"
     ]
    }
   ],
   "source": [
    "def funkcja(x):\n",
    "    print(f\"Jestem x-em w funkcji. Równam się {x}\")\n",
    "    x += 2\n",
    "    print(f\"Jestem x-em w funkcji po zmianie. Równam się {x}\")\n",
    "    \n",
    "    \n",
    "x = 10\n",
    "funkcja(x)\n",
    "print(f\"Po wyjściu z funkcji równam sie {x}\")"
   ]
  },
  {
   "cell_type": "code",
   "execution_count": 22,
   "metadata": {},
   "outputs": [
    {
     "name": "stdout",
     "output_type": "stream",
     "text": [
      "a() starts\n",
      "b() starts\n",
      "c() starts\n",
      "c() returns\n",
      "b() returns\n",
      "d() starts\n",
      "d() returns\n",
      "a() returns\n"
     ]
    }
   ],
   "source": [
    "def a():\n",
    "    print('a() starts')\n",
    "    b()\n",
    "    d()\n",
    "    print('a() returns')\n",
    "\n",
    "def b():\n",
    "    print('b() starts')\n",
    "    c()\n",
    "    print('b() returns')\n",
    "\n",
    "def c():\n",
    "    print('c() starts')\n",
    "    print('c() returns')\n",
    "\n",
    "def d():\n",
    "    print('d() starts')\n",
    "    print('d() returns')\n",
    "\n",
    "a()"
   ]
  },
  {
   "cell_type": "code",
   "execution_count": 26,
   "metadata": {},
   "outputs": [
    {
     "name": "stdout",
     "output_type": "stream",
     "text": [
      "10\n",
      "30\n"
     ]
    }
   ],
   "source": [
    "def spam():\n",
    "    x = 20\n",
    "    \n",
    "def foo():\n",
    "    global x\n",
    "    print(x)\n",
    "    x = 30\n",
    "    \n",
    "x = 10\n",
    "spam()\n",
    "foo()\n",
    "print(x)"
   ]
  },
  {
   "cell_type": "markdown",
   "metadata": {},
   "source": [
    "**Funkcje wyższego rzędu**"
   ]
  },
  {
   "cell_type": "code",
   "execution_count": 32,
   "metadata": {},
   "outputs": [
    {
     "name": "stdout",
     "output_type": "stream",
     "text": [
      "value at 0: 4\n",
      "value at 3: 25\n"
     ]
    }
   ],
   "source": [
    "def make_quad_polynomial(a, b, c):\n",
    "    def p(x):\n",
    "        return a*x**2 + b*x + c\n",
    "    \n",
    "    return p\n",
    "\n",
    "\n",
    "q = make_quad_polynomial(1, 4, 4)\n",
    "print(f'value at 0: {q(0)}\\nvalue at 3: {q(3)}')"
   ]
  },
  {
   "cell_type": "code",
   "execution_count": 37,
   "metadata": {},
   "outputs": [
    {
     "data": {
      "text/plain": [
       "8.000100000025157"
      ]
     },
     "execution_count": 37,
     "metadata": {},
     "output_type": "execute_result"
    }
   ],
   "source": [
    "def f_prime_maker(f):\n",
    "    def f_prime(x):\n",
    "        return (f(x+h)-f(x))/h\n",
    "        # return (f(x+h)-f(x-h))/(2*h)\n",
    "    \n",
    "    h = 0.0001\n",
    "    return f_prime\n",
    "\n",
    "\n",
    "df = f_prime_maker(q)\n",
    "df(2)"
   ]
  },
  {
   "cell_type": "markdown",
   "metadata": {},
   "source": [
    "**Wyrażenia lambda**"
   ]
  },
  {
   "cell_type": "code",
   "execution_count": 2,
   "metadata": {},
   "outputs": [
    {
     "data": {
      "text/plain": [
       "4"
      ]
     },
     "execution_count": 2,
     "metadata": {},
     "output_type": "execute_result"
    }
   ],
   "source": [
    "p = lambda x: x**2 + 4*x + 4\n",
    "p(0)"
   ]
  },
  {
   "cell_type": "code",
   "execution_count": 6,
   "metadata": {},
   "outputs": [
    {
     "data": {
      "text/plain": [
       "7.999999999999119"
      ]
     },
     "execution_count": 6,
     "metadata": {},
     "output_type": "execute_result"
    }
   ],
   "source": [
    "def f_prime_maker_lambda(f):\n",
    "    return lambda x: (f(x+0.001) - f(x-0.001))/(2*0.001)\n",
    "\n",
    "p_prim = f_prime_maker_lambda(p)\n",
    "p_prim(2)"
   ]
  },
  {
   "cell_type": "markdown",
   "metadata": {},
   "source": [
    "## Pytania kontrolne\n",
    " 1) Po co w ogóle używać funkcji? (Wymyśl przynajmniej 3 powody)\n",
    " \n",
    " 2) Co może zwrócić funkcja? Jakim słowem kluczowym wskazuje się na zwracaną wartość? Co domyślnie zwraca funkcja? Ile wartości można zwrócić w jednym wywołaniu?\n",
    " \n",
    " 3) Czym jest zmienna globalna? Jak można zmusić program by użyć jej w ciele funkcji?\n",
    " \n",
    " 4) Jaka jest różnica między funkcją a wywołaniem funkcji?\n",
    " \n",
    " 5) Dlaczego poniższy kod nie działa jak w zamierzeniu? Jak naprawić go, aby działał jak tego chciał programista?"
   ]
  },
  {
   "cell_type": "code",
   "execution_count": null,
   "metadata": {},
   "outputs": [],
   "source": [
    "def increment(x):   #incrementing the value of x\n",
    "    x += 1\n",
    "    \n",
    "x = 2\n",
    "for _ in range(5):\n",
    "    increment(x)\n",
    "    print(x)"
   ]
  },
  {
   "cell_type": "markdown",
   "metadata": {},
   "source": [
    "## Zadanka"
   ]
  },
  {
   "cell_type": "markdown",
   "metadata": {},
   "source": [
    "**Zad 1**"
   ]
  },
  {
   "cell_type": "markdown",
   "metadata": {},
   "source": [
    "1. Napisz funkcje, która oblicza BMI osoby na bazie danego wzrostu i wagi(możesz skorzystaqć ze skryptu 1).\n",
    "\n",
    "2. Dodaj do tej funkcji funkdję wewnętrzną, która na bazie danego BMI wypisze, czy czynnik oznacza niedowagę, nadwagę, otyłość czy prawidłową wartość"
   ]
  },
  {
   "cell_type": "code",
   "execution_count": null,
   "metadata": {},
   "outputs": [],
   "source": [
    "### Miejsce na Twoje rozwiązanie"
   ]
  },
  {
   "cell_type": "markdown",
   "metadata": {},
   "source": [
    "**Zad 2**\n",
    "Napisz funkcję `collatz(num)`, która wypisuje (num), a następnie:\n",
    "    1) jeśli `num` to 1, kończy działanie programu (nic nie zwraca)\n",
    "    2) jeśli `num` jest parzyste, oblicza new_num równy `num//2` i wywołuje `collatz(new_num)`\n",
    "    3) jeśli `num` jest nieparzyste, oblicza new_num równy `3 * num + 1` i wywołuje `collatz(new_num)`\n",
    "    \n",
    "Więcej na temat tej funkcji znajdziesz [tutaj](https://en.wikipedia.org/wiki/Collatz_conjecture)"
   ]
  },
  {
   "cell_type": "code",
   "execution_count": null,
   "metadata": {},
   "outputs": [],
   "source": [
    "### Miejsce na Twoje rozwiązanie"
   ]
  },
  {
   "cell_type": "markdown",
   "metadata": {},
   "source": [
    "**Zad 3** \n",
    "\n",
    "1) Napisz funkcje `add_vectors(x1, y1, x2, y2)` (gdzie `x1, y1`  to współrzędne pierwszego wektora, a `x2, y2` - drugiego) , która zwraca wynik dodania dwóch wektorów (czyli dwie wartości)\n",
    "\n",
    "2) Napisz funkcję, `distance(x1, y1, x2, y2)`, która zwraca odległość między dwoma wektorami (użyj funkcji `sqrt` z modułu `math`) (parametry teraz oznaczają współrzędne punktu)\n",
    "\n",
    "3) Napisz funkcję `draw_circle(x0, y0, r)`, (gdzie `x0,y0` - współrzędne punktu, `r` - odległość), która zwraca funkcję `inside_the_circle(x1, y1)` - współrzędne drugiego punktu), która zwraca informację, czy dany punkt `(x1, y1)` znajduje się wewnątrz koła o środku `(x0, y0)` i promieniu `r`\n",
    "\n",
    "4) Bonus: Spróbuj skrócić funkcję z podpunktu 3 do zwracającej wyrażenie lambda"
   ]
  },
  {
   "cell_type": "code",
   "execution_count": null,
   "metadata": {},
   "outputs": [],
   "source": []
  },
  {
   "cell_type": "markdown",
   "metadata": {},
   "source": [
    "\n"
   ]
  },
  {
   "cell_type": "code",
   "execution_count": null,
   "metadata": {},
   "outputs": [],
   "source": []
  }
 ],
 "metadata": {
  "kernelspec": {
   "display_name": "Python 3",
   "language": "python",
   "name": "python3"
  },
  "language_info": {
   "codemirror_mode": {
    "name": "ipython",
    "version": 3
   },
   "file_extension": ".py",
   "mimetype": "text/x-python",
   "name": "python",
   "nbconvert_exporter": "python",
   "pygments_lexer": "ipython3",
   "version": "3.7.6"
  }
 },
 "nbformat": 4,
 "nbformat_minor": 4
}
