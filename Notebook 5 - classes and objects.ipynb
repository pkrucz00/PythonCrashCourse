{
 "cells": [
  {
   "cell_type": "markdown",
   "metadata": {},
   "source": [
    "# Python - Crash Course\n",
    "**Part 5 - Classes and objects**\n",
    "\n",
    "**DRAFT**"
   ]
  },
  {
   "cell_type": "markdown",
   "metadata": {},
   "source": [
    "## Structures"
   ]
  },
  {
   "cell_type": "code",
   "execution_count": 34,
   "metadata": {},
   "outputs": [],
   "source": [
    "my_cat = {\"age\": 5, \"weight\": 8, \"hobbies\": [\"sleeping\", \"waking up in the middle of the night\"]}"
   ]
  },
  {
   "cell_type": "code",
   "execution_count": 18,
   "metadata": {},
   "outputs": [],
   "source": [
    "someones_cat = {\"age\": 3, \"weight\": 4, \"hobbies\": [\"sleeping\", \"mice\"]}"
   ]
  },
  {
   "cell_type": "markdown",
   "metadata": {},
   "source": [
    "## Classes"
   ]
  },
  {
   "cell_type": "code",
   "execution_count": 19,
   "metadata": {},
   "outputs": [],
   "source": [
    "class Cat:\n",
    "    def __init__(self, given_age, given_weight, given_hobbies):\n",
    "        self.age = given_age\n",
    "        self.weight = given_weight\n",
    "        self.hobbies = given_hobbies\n"
   ]
  },
  {
   "cell_type": "markdown",
   "metadata": {},
   "source": [
    "## Objects"
   ]
  },
  {
   "cell_type": "code",
   "execution_count": 35,
   "metadata": {},
   "outputs": [
    {
     "name": "stdout",
     "output_type": "stream",
     "text": [
      "Age of my cat: 5\n",
      "Weight of my cat: 8\n",
      "Hobbies of my cat: ['sleeping', 'waking up in the middle of the night']\n",
      "\n",
      "Cat got older, now he's 6\n",
      "Hobbies: ['sleeping', 'waking up in the middle of the night', 'Pulling my hair']\n"
     ]
    }
   ],
   "source": [
    "my_cat_object = Cat(5, 8, [\"sleeping\", \"waking up in the middle of the night\"])\n",
    "\n",
    "print(f'Age of my cat: {my_cat_object.age}')\n",
    "print(f'Weight of my cat: {my_cat_object.weight}')\n",
    "print(f'Hobbies of my cat: {my_cat_object.hobbies}')\n",
    "print()\n",
    "\n",
    "my_cat_object.age += 1\n",
    "\n",
    "print(f\"Cat got older, now he's {my_cat_object.age}\")\n",
    "\n",
    "my_cat_object.hobbies.append(\"Pulling my hair\")\n",
    "print(f\"Hobbies: {my_cat_object.hobbies}\")"
   ]
  },
  {
   "cell_type": "code",
   "execution_count": 21,
   "metadata": {},
   "outputs": [
    {
     "name": "stdout",
     "output_type": "stream",
     "text": [
      "Weights of a 1 year old cat: 3\n",
      "Weights of a 2 year old cat: 4\n",
      "Weights of a 3 year old cat: 5\n",
      "Weights of a 4 year old cat: 6\n",
      "Weights of a 5 year old cat: 7\n"
     ]
    }
   ],
   "source": [
    "list_of_cats = [Cat(i, i+2, \"mice\") for i in range(1,6)]\n",
    "for cat in list_of_cats:\n",
    "    print(f'Weights of a {cat.age} year old cat: {cat.weight}')"
   ]
  },
  {
   "cell_type": "markdown",
   "metadata": {},
   "source": [
    "## Methods"
   ]
  },
  {
   "cell_type": "code",
   "execution_count": 22,
   "metadata": {},
   "outputs": [
    {
     "name": "stdout",
     "output_type": "stream",
     "text": [
      "Miaaaaaau\n"
     ]
    }
   ],
   "source": [
    "class Cat:\n",
    "    def __init__(self, given_age, given_weight, given_hobbies):\n",
    "        self.age = given_age\n",
    "        self.weight = given_weight\n",
    "        self.hobbies = given_hobbies\n",
    "    def say(self):\n",
    "        print(\"Miaaaaaau\")\n",
    "        \n",
    "a_cat = Cat(1,2, [])\n",
    "a_cat.say()"
   ]
  },
  {
   "cell_type": "code",
   "execution_count": 25,
   "metadata": {},
   "outputs": [],
   "source": [
    "class Cat:\n",
    "    def __init__(self, given_age, given_weight, given_hobbies):\n",
    "        self.age = given_age\n",
    "        self.weight = given_weight\n",
    "        self.hobbies = given_hobbies\n",
    "    def say(self):\n",
    "        print(\"Miaaaaaau\")\n",
    "    def get_older(self):\n",
    "        self.age += 1\n",
    "    def add_hobby(self, new_hobby):\n",
    "        self.hobbies.append(new_hobby)"
   ]
  },
  {
   "cell_type": "code",
   "execution_count": 36,
   "metadata": {},
   "outputs": [
    {
     "name": "stdout",
     "output_type": "stream",
     "text": [
      "Cat got older, now he's 6\n",
      "Hobbies: ['sleeping', 'waking up in the middle of the night', 'Pulling my hair']\n"
     ]
    }
   ],
   "source": [
    "my_cat_object = Cat(5, 8, [\"sleeping\", \"waking up in the middle of the night\"])\n",
    "my_cat_object.get_older()\n",
    "my_cat_object.add_hobby(\"Pulling my hair\")\n",
    "\n",
    "print(f\"Cat got older, now he's {my_cat_object.age}\")\n",
    "print(f\"Hobbies: {my_cat_object.hobbies}\")"
   ]
  },
  {
   "cell_type": "markdown",
   "metadata": {},
   "source": [
    "## Special methods"
   ]
  },
  {
   "cell_type": "code",
   "execution_count": 38,
   "metadata": {},
   "outputs": [],
   "source": [
    "class Cat:\n",
    "    def __init__(self, given_age, given_weight, given_hobbies):\n",
    "        self.age = given_age\n",
    "        self.weight = given_weight\n",
    "        self.hobbies = given_hobbies\n",
    "    \n",
    "    def say(self):\n",
    "        print(\"Miaaaaaau\")\n",
    "    \n",
    "    def get_older(self):\n",
    "        self.age += 1\n",
    "    \n",
    "    def add_hobby(self, new_hobby):\n",
    "        self.hobbies.append(new_hobby)\n",
    "        \n",
    "    def __str__(self):\n",
    "        return f\"Hello! I'm a {self.age} year old cat with exactly {self.weight} kg of weight. My hobbies include: \" + \" \".join(self.hobbies)"
   ]
  },
  {
   "cell_type": "code",
   "execution_count": 39,
   "metadata": {},
   "outputs": [
    {
     "name": "stdout",
     "output_type": "stream",
     "text": [
      "Hello! I'm a 5 year old cat with exactly 8 kg of weight. My hobbies include: sleeping waking up in the middle of the night\n"
     ]
    }
   ],
   "source": [
    "my_cat_object = Cat(5, 8, [\"sleeping\", \"waking up in the middle of the night\"])\n",
    "print(my_cat_object)"
   ]
  },
  {
   "cell_type": "code",
   "execution_count": 48,
   "metadata": {},
   "outputs": [
    {
     "name": "stdout",
     "output_type": "stream",
     "text": [
      "<class '__main__.Cat'>\n",
      "{'age': 5, 'weight': 8, 'hobbies': ['sleeping', 'waking up in the middle of the night']}\n"
     ]
    }
   ],
   "source": [
    "print(my_cat_object.__class__)\n",
    "print(my_cat_object.__dict__)\n"
   ]
  },
  {
   "cell_type": "code",
   "execution_count": null,
   "metadata": {},
   "outputs": [],
   "source": []
  }
 ],
 "metadata": {
  "kernelspec": {
   "display_name": "Python 3",
   "language": "python",
   "name": "python3"
  },
  "language_info": {
   "codemirror_mode": {
    "name": "ipython",
    "version": 3
   },
   "file_extension": ".py",
   "mimetype": "text/x-python",
   "name": "python",
   "nbconvert_exporter": "python",
   "pygments_lexer": "ipython3",
   "version": "3.7.6"
  }
 },
 "nbformat": 4,
 "nbformat_minor": 4
}
