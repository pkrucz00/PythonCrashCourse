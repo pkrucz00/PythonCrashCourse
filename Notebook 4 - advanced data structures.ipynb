{
 "cells": [
  {
   "cell_type": "markdown",
   "metadata": {},
   "source": [
    "# Python - Crash Course\n",
    "**Part 4 - Complex Data Structures**\n",
    "\n",
    "**DRAFT**"
   ]
  },
  {
   "cell_type": "markdown",
   "metadata": {},
   "source": [
    "## Lists"
   ]
  },
  {
   "cell_type": "code",
   "execution_count": 16,
   "metadata": {},
   "outputs": [
    {
     "data": {
      "text/plain": [
       "7"
      ]
     },
     "execution_count": 16,
     "metadata": {},
     "output_type": "execute_result"
    }
   ],
   "source": [
    "empty_spam = []\n",
    "full_spam = [1,4,3,5,6,4,7656]\n",
    "random_spam = [\"abdc\", 254, 1.7674, print]\n",
    "\n",
    "full_spam[0]\n",
    "full_spam[6]\n",
    "full_spam[-1]\n",
    "len(full_spam)"
   ]
  },
  {
   "cell_type": "code",
   "execution_count": 8,
   "metadata": {},
   "outputs": [
    {
     "data": {
      "text/plain": [
       "['Hello', 'My', 'Name', 'Is', 'Slim', 'Shady']"
      ]
     },
     "execution_count": 8,
     "metadata": {},
     "output_type": "execute_result"
    }
   ],
   "source": [
    "empty_spam.append(\"Hello\")  #wspomnieć, czym są metody\n",
    "empty_spam.append(\"My\")\n",
    "empty_spam.append(\"Name\")\n",
    "empty_spam.append(\"Is\")\n",
    "empty_spam.append(\"Slim\")\n",
    "empty_spam.append(\"Shady\")\n",
    "\n",
    "empty_spam"
   ]
  },
  {
   "cell_type": "code",
   "execution_count": 9,
   "metadata": {},
   "outputs": [
    {
     "name": "stdout",
     "output_type": "stream",
     "text": [
      "[0, 1, 2, 3, 4]\n"
     ]
    }
   ],
   "source": [
    "result = []\n",
    "for i in range(5):\n",
    "    result.append(i)\n",
    "print(result)"
   ]
  },
  {
   "cell_type": "code",
   "execution_count": 10,
   "metadata": {},
   "outputs": [
    {
     "name": "stdout",
     "output_type": "stream",
     "text": [
      "[0, 1, 2, 3, 4]\n"
     ]
    }
   ],
   "source": [
    "result = [i for i in range(5)]\n",
    "\n",
    "print(result)"
   ]
  },
  {
   "cell_type": "code",
   "execution_count": 11,
   "metadata": {},
   "outputs": [
    {
     "name": "stdout",
     "output_type": "stream",
     "text": [
      "Hej, Baśka. To Twój kasztan?\n",
      "Hej, Gośka. To Twój kasztan?\n",
      "Hej, Zośka. To Twój kasztan?\n",
      "Hej, Ela. To Twój kasztan?\n"
     ]
    }
   ],
   "source": [
    "imiona = [\"Baśka\", \"Gośka\", \"Zośka\", \"Ela\"]\n",
    "for imie in imiona:\n",
    "    print(f'Hej, {imie}. To Twój kasztan?')"
   ]
  },
  {
   "cell_type": "code",
   "execution_count": 17,
   "metadata": {},
   "outputs": [
    {
     "name": "stdout",
     "output_type": "stream",
     "text": [
      "[1, 4, 5, 6, 4, 7656]\n",
      "[1, 4, 5, 6, 4]\n"
     ]
    }
   ],
   "source": [
    "del full_spam[2]\n",
    "print(full_spam)\n",
    "\n",
    "spam_elem = full_spam.pop()\n",
    "print(full_spam)"
   ]
  },
  {
   "cell_type": "markdown",
   "metadata": {},
   "source": [
    "**UWAGA! pułapka**"
   ]
  },
  {
   "cell_type": "code",
   "execution_count": 18,
   "metadata": {},
   "outputs": [
    {
     "name": "stdout",
     "output_type": "stream",
     "text": [
      "[1, 2, 3, 4, 5, 6]\n",
      "[1, 2, 3, 4, 5, 6]\n"
     ]
    }
   ],
   "source": [
    "a = [1,2,3,4,5]\n",
    "b = a\n",
    "b.append(6)\n",
    "print(b)\n",
    "print(a)"
   ]
  },
  {
   "cell_type": "code",
   "execution_count": 19,
   "metadata": {},
   "outputs": [
    {
     "name": "stdout",
     "output_type": "stream",
     "text": [
      "[1, 2, 3, 4, 5, 6]\n",
      "[1, 2, 3, 4, 5]\n"
     ]
    }
   ],
   "source": [
    "a = [1,2,3,4,5]\n",
    "b = a.copy()\n",
    "b.append(6)\n",
    "print(b)\n",
    "print(a)"
   ]
  },
  {
   "cell_type": "code",
   "execution_count": 29,
   "metadata": {},
   "outputs": [
    {
     "name": "stdout",
     "output_type": "stream",
     "text": [
      "[1, 2, 3, 'A', 'B', 'C']\n",
      "\n",
      "[1, 2, 3, ['A', 'B', 'C']]\n",
      "\n",
      "[1, 2, 3, 'A', 'B', 'C']\n",
      "\n",
      "['A', 'B', 'C', 'A', 'B', 'C', 'A', 'B', 'C']\n"
     ]
    }
   ],
   "source": [
    "spam = [1,2,3]\n",
    "foo = [\"A\", \"B\", \"C\"]\n",
    "\n",
    "print(spam + foo)\n",
    "print()\n",
    "\n",
    "spam.append(foo)\n",
    "print(spam)\n",
    "print()\n",
    "spam.pop()\n",
    "\n",
    "spam.extend(foo)\n",
    "print(spam)\n",
    "print()\n",
    "\n",
    "print(foo*3)"
   ]
  },
  {
   "cell_type": "code",
   "execution_count": 30,
   "metadata": {},
   "outputs": [
    {
     "name": "stdout",
     "output_type": "stream",
     "text": [
      "[1, 2, 3, 4, 5, 6, 9]\n",
      "[1, 2, 3, 4, 5, 6, 9]\n"
     ]
    }
   ],
   "source": [
    "unsorted_list = [5,1,2,6,4,3,9]\n",
    "sorted_list = sorted(unsorted_list)\n",
    "print(sorted_list)\n",
    "\n",
    "unsorted_list.sort()  #już nie taka unsorted\n",
    "print(unsorted_list)"
   ]
  },
  {
   "cell_type": "code",
   "execution_count": 38,
   "metadata": {},
   "outputs": [
    {
     "name": "stdout",
     "output_type": "stream",
     "text": [
      "['c', 'd']\n",
      "['a', 'b', 'c', 'd']\n",
      "['e', 'f', 'g']\n",
      "\n",
      "['e', 'f']\n",
      "['a', 'b', 'c', 'd', 'e']\n",
      "['d']\n",
      "\n",
      "['b']\n",
      "['e', 'c']\n",
      "['a', 'd']\n",
      "\n"
     ]
    }
   ],
   "source": [
    "spam = [\"a\", \"b\", \"c\", \"d\", \"e\", \"f\", \"g\"]\n",
    "# spam = \"abcdefg\"\n",
    "\n",
    "print(spam[2:4])\n",
    "print(spam[:4])\n",
    "print(spam[4:])\n",
    "print()\n",
    "\n",
    "print(spam[-3:-1])\n",
    "print(spam[:-2])\n",
    "print(spam[-4:4])\n",
    "print()\n",
    "\n",
    "print(spam[1:3:2])\n",
    "print(spam[4:1:-2])\n",
    "print(spam[:-1:3])\n",
    "print()\n",
    "\n",
    "spam[???]\n",
    "# print(f'odwrócenie tabeli: {spam[???]}')"
   ]
  },
  {
   "cell_type": "code",
   "execution_count": 16,
   "metadata": {},
   "outputs": [
    {
     "name": "stdout",
     "output_type": "stream",
     "text": [
      "[[0, 1, 2], [1, 2, 3], [2, 3, 4]]\n"
     ]
    }
   ],
   "source": [
    "arr_2d = [ [0, 1, 2],\n",
    "           [1, 2, 3],\n",
    "           [2, 3, 4] ]\n",
    "print(arr_2d)"
   ]
  },
  {
   "cell_type": "code",
   "execution_count": 19,
   "metadata": {},
   "outputs": [
    {
     "name": "stdout",
     "output_type": "stream",
     "text": [
      "[[0, 1, 2], [1, 2, 3], [2, 3, 4]]\n"
     ]
    }
   ],
   "source": [
    "replicate_arr_2d = []\n",
    "for i in range(3):\n",
    "    replicate_arr_2d.append([])\n",
    "    for j in range(3):\n",
    "        replicate_arr_2d[i].append(i+j)\n",
    "print(replicate_arr_2d)"
   ]
  },
  {
   "cell_type": "code",
   "execution_count": 20,
   "metadata": {},
   "outputs": [
    {
     "name": "stdout",
     "output_type": "stream",
     "text": [
      "[[0, 1, 2], [1, 2, 3], [2, 3, 4]]\n"
     ]
    }
   ],
   "source": [
    "list_coprehended_2d_array = [ [i+j for i in range(3)] for j in range(3)]\n",
    "print(list_coprehended_2d_array)"
   ]
  },
  {
   "cell_type": "code",
   "execution_count": 29,
   "metadata": {},
   "outputs": [
    {
     "name": "stdout",
     "output_type": "stream",
     "text": [
      "[[0, 0, 0], [0, 0, 0], [0, 0, 0]]\n",
      "[[0, 2, 0], [0, 2, 0], [0, 2, 0]]\n"
     ]
    }
   ],
   "source": [
    "a = [[0] * 3]*3\n",
    "print(a)\n",
    "\n",
    "a[0][1] = 2\n",
    "print(a)"
   ]
  },
  {
   "cell_type": "markdown",
   "metadata": {},
   "source": [
    "## Tuples (krotki)"
   ]
  },
  {
   "cell_type": "code",
   "execution_count": 30,
   "metadata": {},
   "outputs": [
    {
     "ename": "TypeError",
     "evalue": "'tuple' object does not support item assignment",
     "output_type": "error",
     "traceback": [
      "\u001b[1;31m---------------------------------------------------------------------------\u001b[0m",
      "\u001b[1;31mTypeError\u001b[0m                                 Traceback (most recent call last)",
      "\u001b[1;32m<ipython-input-30-a2a302c9279d>\u001b[0m in \u001b[0;36m<module>\u001b[1;34m\u001b[0m\n\u001b[0;32m      3\u001b[0m \u001b[1;33m\u001b[0m\u001b[0m\n\u001b[0;32m      4\u001b[0m \u001b[0mfull_spam_list\u001b[0m\u001b[1;33m[\u001b[0m\u001b[1;36m2\u001b[0m\u001b[1;33m]\u001b[0m \u001b[1;33m=\u001b[0m \u001b[1;36m12.3\u001b[0m\u001b[1;33m\u001b[0m\u001b[1;33m\u001b[0m\u001b[0m\n\u001b[1;32m----> 5\u001b[1;33m \u001b[0mfull_spam_tuple\u001b[0m\u001b[1;33m[\u001b[0m\u001b[1;36m2\u001b[0m\u001b[1;33m]\u001b[0m \u001b[1;33m=\u001b[0m \u001b[1;36m12.3\u001b[0m\u001b[1;33m\u001b[0m\u001b[1;33m\u001b[0m\u001b[0m\n\u001b[0m",
      "\u001b[1;31mTypeError\u001b[0m: 'tuple' object does not support item assignment"
     ]
    }
   ],
   "source": [
    "full_spam_list = [1,4,3,5,6,4,7656]\n",
    "full_spam_tuple = (1,4,3,5,6,4,7656)\n",
    "\n",
    "full_spam_list[2] = 12.3\n",
    "full_spam_tuple[2] = 12.3"
   ]
  },
  {
   "cell_type": "code",
   "execution_count": 32,
   "metadata": {},
   "outputs": [
    {
     "name": "stdout",
     "output_type": "stream",
     "text": [
      "Hej, Baśka. To Twój kasztan?\n",
      "Hej, Gośka. To Twój kasztan?\n",
      "Hej, Zośka. To Twój kasztan?\n",
      "Hej, Ela. To Twój kasztan?\n"
     ]
    }
   ],
   "source": [
    "imiona_krotka = (\"Baśka\", \"Gośka\", \"Zośka\", \"Ela\")\n",
    "for imie in imiona_krotka:\n",
    "    print(f'Hej, {imie}. To Twój kasztan?')"
   ]
  },
  {
   "cell_type": "markdown",
   "metadata": {},
   "source": [
    "**Dodateczek o stringach**"
   ]
  },
  {
   "cell_type": "code",
   "execution_count": 34,
   "metadata": {},
   "outputs": [
    {
     "name": "stdout",
     "output_type": "stream",
     "text": [
      "The letter is G\n",
      "The letter is o\n",
      "The letter is r\n",
      "The letter is g\n",
      "The letter is o\n",
      "The letter is n\n",
      "The letter is z\n",
      "The letter is o\n",
      "The letter is l\n",
      "The letter is a\n"
     ]
    }
   ],
   "source": [
    "string_is_iterable = \"Gorgonzola\"\n",
    "for character in string_is_iterable:\n",
    "    print(f'The letter is {character}')\n",
    "          "
   ]
  },
  {
   "cell_type": "code",
   "execution_count": 35,
   "metadata": {},
   "outputs": [
    {
     "ename": "TypeError",
     "evalue": "'str' object does not support item assignment",
     "output_type": "error",
     "traceback": [
      "\u001b[1;31m---------------------------------------------------------------------------\u001b[0m",
      "\u001b[1;31mTypeError\u001b[0m                                 Traceback (most recent call last)",
      "\u001b[1;32m<ipython-input-35-7a280ed3732d>\u001b[0m in \u001b[0;36m<module>\u001b[1;34m\u001b[0m\n\u001b[0;32m      1\u001b[0m \u001b[0mstring_is_immutable\u001b[0m \u001b[1;33m=\u001b[0m \u001b[1;34m\"Zupa\"\u001b[0m\u001b[1;33m\u001b[0m\u001b[1;33m\u001b[0m\u001b[0m\n\u001b[1;32m----> 2\u001b[1;33m \u001b[0mstring_is_immutable\u001b[0m\u001b[1;33m[\u001b[0m\u001b[1;36m0\u001b[0m\u001b[1;33m]\u001b[0m \u001b[1;33m=\u001b[0m \u001b[1;34m\"D\"\u001b[0m\u001b[1;33m\u001b[0m\u001b[1;33m\u001b[0m\u001b[0m\n\u001b[0m",
      "\u001b[1;31mTypeError\u001b[0m: 'str' object does not support item assignment"
     ]
    }
   ],
   "source": [
    "string_is_immutable = \"Zupa\"\n",
    "string_is_immutable[0] = \"D\""
   ]
  },
  {
   "cell_type": "code",
   "execution_count": 36,
   "metadata": {},
   "outputs": [
    {
     "name": "stdout",
     "output_type": "stream",
     "text": [
      "beginning_end\n"
     ]
    }
   ],
   "source": [
    "string_can_expand = \"beginning\"\n",
    "string_can_expand += \"_end\"\n",
    "\n",
    "print(string_can_expand)"
   ]
  },
  {
   "cell_type": "markdown",
   "metadata": {},
   "source": [
    "## Dictionaries (słowniki)"
   ]
  },
  {
   "cell_type": "code",
   "execution_count": 37,
   "metadata": {},
   "outputs": [
    {
     "data": {
      "text/plain": [
       "{'Kot': 'Gruby', 'Pies': 'Denerwujący', 'Świnka Morska': 'Urocza'}"
      ]
     },
     "execution_count": 37,
     "metadata": {},
     "output_type": "execute_result"
    }
   ],
   "source": [
    "my_dict = {}\n",
    "also_my_dict = dict()\n",
    "\n",
    "another_dict = {\"C\":\"Cytozyna\", \"G\":\"Guanina\", \"A\":\"Adenina\"}\n",
    "another_dict[\"T\"] = \"Tymina\"\n",
    "\n",
    "\n",
    "my_dict[\"Kot\"] = \"Gruby\"\n",
    "my_dict[\"Pies\"] = \"Denerwujący\"\n",
    "my_dict[\"Świnka Morska\"] = \"Urocza\"\n",
    "\n",
    "my_dict"
   ]
  },
  {
   "cell_type": "code",
   "execution_count": 8,
   "metadata": {},
   "outputs": [
    {
     "name": "stdout",
     "output_type": "stream",
     "text": [
      "7\n",
      "8\n",
      "9\n",
      "5\n"
     ]
    }
   ],
   "source": [
    "also_my_dict[7] = 10\n",
    "also_my_dict[8] = 9\n",
    "also_my_dict[9] = 14\n",
    "also_my_dict[5] = 13\n",
    "\n",
    "for entry in also_my_dict:\n",
    "    print(entry)"
   ]
  },
  {
   "cell_type": "code",
   "execution_count": 11,
   "metadata": {},
   "outputs": [
    {
     "name": "stdout",
     "output_type": "stream",
     "text": [
      "Keys:\n",
      "7\n",
      "8\n",
      "9\n",
      "5\n",
      "\n",
      "Values:\n",
      "10\n",
      "9\n",
      "14\n",
      "13\n",
      "\n",
      "Items:\n",
      "7 10\n",
      "8 9\n",
      "9 14\n",
      "5 13\n"
     ]
    }
   ],
   "source": [
    "print(\"Keys:\")\n",
    "for key in also_my_dict.keys():\n",
    "    print(key)\n",
    "print()\n",
    "\n",
    "print(\"Values:\")\n",
    "for value in also_my_dict.values():\n",
    "    print(value)\n",
    "print()\n",
    "\n",
    "print(\"Items:\")\n",
    "for key, value in also_my_dict.items():\n",
    "    print(key, value)"
   ]
  },
  {
   "cell_type": "code",
   "execution_count": 14,
   "metadata": {},
   "outputs": [
    {
     "data": {
      "text/plain": [
       "dict_items([(7, 10), (8, 9), (9, 14), (5, 13)])"
      ]
     },
     "execution_count": 14,
     "metadata": {},
     "output_type": "execute_result"
    }
   ],
   "source": [
    "also_my_dict.items()"
   ]
  },
  {
   "cell_type": "code",
   "execution_count": 15,
   "metadata": {},
   "outputs": [
    {
     "data": {
      "text/plain": [
       "[(7, 10), (8, 9), (9, 14), (5, 13)]"
      ]
     },
     "execution_count": 15,
     "metadata": {},
     "output_type": "execute_result"
    }
   ],
   "source": [
    "list(also_my_dict.items())"
   ]
  },
  {
   "cell_type": "markdown",
   "metadata": {},
   "source": [
    "**Błędy**"
   ]
  },
  {
   "cell_type": "code",
   "execution_count": 17,
   "metadata": {},
   "outputs": [
    {
     "ename": "KeyError",
     "evalue": "'abc'",
     "output_type": "error",
     "traceback": [
      "\u001b[1;31m---------------------------------------------------------------------------\u001b[0m",
      "\u001b[1;31mKeyError\u001b[0m                                  Traceback (most recent call last)",
      "\u001b[1;32m<ipython-input-17-43577abd36af>\u001b[0m in \u001b[0;36m<module>\u001b[1;34m\u001b[0m\n\u001b[1;32m----> 1\u001b[1;33m \u001b[0malso_my_dict\u001b[0m\u001b[1;33m[\u001b[0m\u001b[1;34m\"abc\"\u001b[0m\u001b[1;33m]\u001b[0m\u001b[1;33m\u001b[0m\u001b[1;33m\u001b[0m\u001b[0m\n\u001b[0m",
      "\u001b[1;31mKeyError\u001b[0m: 'abc'"
     ]
    }
   ],
   "source": [
    "also_my_dict[\"abc\"]"
   ]
  },
  {
   "cell_type": "code",
   "execution_count": 22,
   "metadata": {},
   "outputs": [
    {
     "name": "stdout",
     "output_type": "stream",
     "text": [
      "None\n",
      "None\n"
     ]
    }
   ],
   "source": [
    "if \"abc\" in also_my_dict.keys():   #Rozwiązanie 1 (brzydkie, ale zawiera słowo kluczowe `in`)\n",
    "    x = also_my_dict[\"abc\"]\n",
    "print(x)\n",
    "    \n",
    "x = also_my_dict.get(\"abc\")   #rozwiązanie 2 (ładne)\n",
    "print(x)"
   ]
  },
  {
   "cell_type": "code",
   "execution_count": 38,
   "metadata": {},
   "outputs": [
    {
     "ename": "TypeError",
     "evalue": "unhashable type: 'list'",
     "output_type": "error",
     "traceback": [
      "\u001b[1;31m---------------------------------------------------------------------------\u001b[0m",
      "\u001b[1;31mTypeError\u001b[0m                                 Traceback (most recent call last)",
      "\u001b[1;32m<ipython-input-38-a42e0e647a88>\u001b[0m in \u001b[0;36m<module>\u001b[1;34m\u001b[0m\n\u001b[0;32m      1\u001b[0m \u001b[0mmy_list\u001b[0m \u001b[1;33m=\u001b[0m \u001b[1;33m[\u001b[0m\u001b[1;34m\"ala\"\u001b[0m\u001b[1;33m,\u001b[0m \u001b[1;34m\"Ma\"\u001b[0m\u001b[1;33m,\u001b[0m \u001b[1;34m\"Kota\"\u001b[0m\u001b[1;33m]\u001b[0m\u001b[1;33m\u001b[0m\u001b[1;33m\u001b[0m\u001b[0m\n\u001b[1;32m----> 2\u001b[1;33m \u001b[0malso_my_dict\u001b[0m\u001b[1;33m[\u001b[0m\u001b[0mmy_list\u001b[0m\u001b[1;33m]\u001b[0m \u001b[1;33m=\u001b[0m \u001b[1;36m3\u001b[0m\u001b[1;33m\u001b[0m\u001b[1;33m\u001b[0m\u001b[0m\n\u001b[0m",
      "\u001b[1;31mTypeError\u001b[0m: unhashable type: 'list'"
     ]
    }
   ],
   "source": [
    "my_list = [\"ala\", \"Ma\", \"Kota\"]\n",
    "also_my_dict[my_list] = 3"
   ]
  },
  {
   "cell_type": "code",
   "execution_count": 39,
   "metadata": {},
   "outputs": [
    {
     "data": {
      "text/plain": [
       "{('ala', 'Ma', 'Kota'): 3}"
      ]
     },
     "execution_count": 39,
     "metadata": {},
     "output_type": "execute_result"
    }
   ],
   "source": [
    "my_tuple = tuple(my_list)\n",
    "also_my_dict[my_tuple] = 3\n",
    "also_my_dict"
   ]
  },
  {
   "cell_type": "code",
   "execution_count": 42,
   "metadata": {},
   "outputs": [
    {
     "data": {
      "text/plain": [
       "{('ala', 'Ma', 'Kota'): 3, 'Kota': ['Ma', 'Ala']}"
      ]
     },
     "execution_count": 42,
     "metadata": {},
     "output_type": "execute_result"
    }
   ],
   "source": [
    "also_my_dict[\"Kota\"] = [\"Ma\", \"Ala\"]\n",
    "also_my_dict"
   ]
  },
  {
   "cell_type": "code",
   "execution_count": 16,
   "metadata": {},
   "outputs": [
    {
     "ename": "AttributeError",
     "evalue": "'dict' object has no attribute 'sort'",
     "output_type": "error",
     "traceback": [
      "\u001b[1;31m---------------------------------------------------------------------------\u001b[0m",
      "\u001b[1;31mAttributeError\u001b[0m                            Traceback (most recent call last)",
      "\u001b[1;32m<ipython-input-16-770598fb4302>\u001b[0m in \u001b[0;36m<module>\u001b[1;34m\u001b[0m\n\u001b[1;32m----> 1\u001b[1;33m \u001b[0malso_my_dict\u001b[0m\u001b[1;33m.\u001b[0m\u001b[0msort\u001b[0m\u001b[1;33m(\u001b[0m\u001b[1;33m)\u001b[0m\u001b[1;33m\u001b[0m\u001b[1;33m\u001b[0m\u001b[0m\n\u001b[0m",
      "\u001b[1;31mAttributeError\u001b[0m: 'dict' object has no attribute 'sort'"
     ]
    }
   ],
   "source": [
    "also_my_dict.sort()"
   ]
  },
  {
   "cell_type": "code",
   "execution_count": 26,
   "metadata": {},
   "outputs": [
    {
     "data": {
      "text/plain": [
       "[5, 7, 8, 9]"
      ]
     },
     "execution_count": 26,
     "metadata": {},
     "output_type": "execute_result"
    }
   ],
   "source": [
    "list_made_from_dict = list(also_my_dict)\n",
    "list_made_from_dict.sort()\n",
    "list_made_from_dict"
   ]
  },
  {
   "cell_type": "markdown",
   "metadata": {},
   "source": [
    "**Przydatne Funkcje**"
   ]
  },
  {
   "cell_type": "code",
   "execution_count": 28,
   "metadata": {},
   "outputs": [
    {
     "data": {
      "text/plain": [
       "'Leniwy'"
      ]
     },
     "execution_count": 28,
     "metadata": {},
     "output_type": "execute_result"
    }
   ],
   "source": [
    "my_dict[\"Kot\"] = \"Leniwy\"\n",
    "my_dict[\"Kot\"]  #a skąd teraz wiemy, że jest gruby?"
   ]
  },
  {
   "cell_type": "code",
   "execution_count": 34,
   "metadata": {},
   "outputs": [
    {
     "data": {
      "text/plain": [
       "'Urocza'"
      ]
     },
     "execution_count": 34,
     "metadata": {},
     "output_type": "execute_result"
    }
   ],
   "source": [
    "my_dict.setdefault(\"Świnka Morska\", \"Cudowna\")\n",
    "my_dict[\"Świnka Morska\"]"
   ]
  },
  {
   "cell_type": "code",
   "execution_count": 32,
   "metadata": {},
   "outputs": [
    {
     "data": {
      "text/plain": [
       "{'a': 5, 'b': 2, 'r': 2, 'c': 1, 'd': 1}"
      ]
     },
     "execution_count": 32,
     "metadata": {},
     "output_type": "execute_result"
    }
   ],
   "source": [
    "word = \"abracadabra\"\n",
    "number_of_letters = {}\n",
    "\n",
    "for letter in word:\n",
    "    if letter not in number_of_letters:\n",
    "        number_of_letters[letter] = 1\n",
    "    else:\n",
    "        number_of_letters[letter] += 1\n",
    "\n",
    "number_of_letters"
   ]
  },
  {
   "cell_type": "code",
   "execution_count": 35,
   "metadata": {},
   "outputs": [
    {
     "data": {
      "text/plain": [
       "{'a': 5, 'b': 2, 'r': 2, 'c': 1, 'd': 1}"
      ]
     },
     "execution_count": 35,
     "metadata": {},
     "output_type": "execute_result"
    }
   ],
   "source": [
    "number_of_letters = {}\n",
    "for letter in word:\n",
    "    number_of_letters.setdefault(letter, 0)\n",
    "    number_of_letters[letter] += 1\n",
    "\n",
    "number_of_letters"
   ]
  },
  {
   "cell_type": "markdown",
   "metadata": {},
   "source": [
    "## Dodatek\n",
    "**Otwieranie i zamykanie pliku**"
   ]
  },
  {
   "cell_type": "code",
   "execution_count": 36,
   "metadata": {},
   "outputs": [],
   "source": [
    "with open(\"abc.txt\", \"w\") as file:\n",
    "    file.writelines(\"hegemonia\")"
   ]
  },
  {
   "cell_type": "markdown",
   "metadata": {},
   "source": [
    "Dogłębny opis znajdziesz [tutaj](https://automatetheboringstuff.com/2e/chapter9/)"
   ]
  },
  {
   "cell_type": "markdown",
   "metadata": {},
   "source": [
    "## Pytania kontrolne\n",
    "1. Czym jest `[]`?\n",
    "\n",
    "2. Mamy daną listę `spam = [\"a\", \"b\", \"c\", \"d\"]`. Jakie wartości zrwócą:\n",
    "    a) `spam[2]`\n",
    "    b) `spam[-1]`\n",
    "    c) `spam[:-2]`\n",
    "    \n",
    "3. Jak dodać wartość na koniec listy?\n",
    "\n",
    "4. Podaj różnice między listą i krotką.\n",
    "\n",
    "5. Które  poznane przez Ciebie typy są `muttable`, a które `immutable`?\n",
    "\n",
    "6. Co można zrobić w słowniku, czego nie można w liście?\n",
    "\n",
    "7. Co można zrobic w liście, czego nie można w słowniku?\n",
    "\n",
    "8. Jakiej/jackich struktur(y) można użyć, aby zapisać:\n",
    "    a) punkt na płaszczyźnie\n",
    "    b) wszystkie pomiary czasu eksperymentu\n",
    "    c) zbiór punktów na płaszczyźnie\n",
    "    d) przypisanie osób do pokoju hotelowego (w całym hotelu)\n",
    "    \n",
    "9. Jak otworzyć plik w trybie odczytu i zapisu?"
   ]
  },
  {
   "cell_type": "code",
   "execution_count": null,
   "metadata": {},
   "outputs": [],
   "source": []
  }
 ],
 "metadata": {
  "kernelspec": {
   "display_name": "Python 3",
   "language": "python",
   "name": "python3"
  },
  "language_info": {
   "codemirror_mode": {
    "name": "ipython",
    "version": 3
   },
   "file_extension": ".py",
   "mimetype": "text/x-python",
   "name": "python",
   "nbconvert_exporter": "python",
   "pygments_lexer": "ipython3",
   "version": "3.7.6"
  }
 },
 "nbformat": 4,
 "nbformat_minor": 4
}
