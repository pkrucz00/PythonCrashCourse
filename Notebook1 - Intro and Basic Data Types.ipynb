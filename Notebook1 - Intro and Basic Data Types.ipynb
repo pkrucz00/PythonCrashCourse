{
 "cells": [
  {
   "cell_type": "markdown",
   "metadata": {},
   "source": [
    "# Python - Crash Course\n",
    "**Part 1 - Introduction and Basic Data Structures**"
   ]
  },
  {
   "cell_type": "markdown",
   "metadata": {},
   "source": [
    "## Intro\n",
    "### Little bit of history"
   ]
  },
  {
   "cell_type": "markdown",
   "metadata": {},
   "source": [
    "Python started in 1989 as a hobby project of Guido van Rossum, Dutch programmist. His goal was to make a programming language that is open source (meaning that everyone can use, study, change and distribute the code), \"as easy as plain english\" and suitable for everyday tasks. Since then python grew to become one of the most popular programming languages worldwide and is wildely used and supported by programmers."
   ]
  },
  {
   "cell_type": "markdown",
   "metadata": {},
   "source": [
    "### Python 2 vs. Python 3\n",
    "As every language, Python evolves over time. Nearly every new version is **backwards-compatible** with the previous one, meaning the code written on the old version can be run on the newer.\n",
    "\n",
    "In 2008 however, when Python 2 was still used, Python 3 was realeased. Python 3 is **not** backward-compatible with Python 2. Keep that in mind if you ever encounter \"strange\" errors about bad syntax - always check if you're using good version of python!\n",
    "\n",
    "The current version (as of time of writing this text) of Python is **3.9**."
   ]
  },
  {
   "cell_type": "markdown",
   "metadata": {},
   "source": [
    "### Interpreter\n",
    "Every code made by humans must be \"translated\" for computers. In case of python this job is done by an **interpreter**. Python interpreter can be downloaded from [the offcial site](https://www.python.org/) as well as from Windows Store and other applications. It's also build in some systems (for example Linux).\n",
    "\n",
    "To use the interpreter simply open the command line (`Windows + R`, then write *cmd*, then click `enter` on Windows, `ctrl + alt + t` on linux), type `python` or `python3` and a python console will apear. Feel free to experiment with it!"
   ]
  },
  {
   "cell_type": "markdown",
   "metadata": {},
   "source": [
    "### *.py* files and IDE\n",
    "Python interpreter is cool but for more suffisticated jobs we need an ordered set of commands called **scripts**. They are stored in `.py` files and can be easily created, writen and obtained with programs called **IDE**.\n",
    "\n",
    "IDE (short for *integrated development environment*) are made for programmers to make programming a little easier. Most IDE's can not only run the programs, but they highlight syntax, show errors and can run the program line-after-line (called **debug**). Python IDE's include PyCharm, VisualStudioCode and JupyterNotebook"
   ]
  },
  {
   "cell_type": "markdown",
   "metadata": {},
   "source": [
    "## Basic Data Structures\n",
    "### int\n",
    "`int` is short for *integer*. In python all integer values are unlimited (unlike in for example C language), so you can performe operations on big integer values and never worry about wrong results."
   ]
  },
  {
   "cell_type": "code",
   "execution_count": 1,
   "metadata": {},
   "outputs": [
    {
     "data": {
      "text/plain": [
       "455602021"
      ]
     },
     "execution_count": 1,
     "metadata": {},
     "output_type": "execute_result"
    }
   ],
   "source": [
    "455589898 + 12123"
   ]
  },
  {
   "cell_type": "code",
   "execution_count": 2,
   "metadata": {},
   "outputs": [
    {
     "data": {
      "text/plain": [
       "-1234444433334"
      ]
     },
     "execution_count": 2,
     "metadata": {},
     "output_type": "execute_result"
    }
   ],
   "source": [
    "-1234567890123 + 123456789"
   ]
  },
  {
   "cell_type": "markdown",
   "metadata": {},
   "source": [
    "### float\n",
    "`float` is for `floating point`. It indicates numbers with non zero fraction part. Unlike `int`, float numbers **are** bounded, so you can have strange problems with operations including very small and very big numbers."
   ]
  },
  {
   "cell_type": "code",
   "execution_count": 3,
   "metadata": {},
   "outputs": [
    {
     "data": {
      "text/plain": [
       "450000000.0"
      ]
     },
     "execution_count": 3,
     "metadata": {},
     "output_type": "execute_result"
    }
   ],
   "source": [
    "450000000.0+0.00000000001\n",
    "#NOTE: the '.0' at the end of first element indicates the number is a `float` rather than `int`"
   ]
  },
  {
   "cell_type": "markdown",
   "metadata": {},
   "source": [
    "Note that inside the memory of the computer every element is binary, which means that some fractions without infinite extensions (like 0.1) must be written with such ( 0.1 in decimal is 0.0(0011) in binary). This means that since the memory is finite, we can't save the number without losing some data.\n",
    "\n",
    "Furthermore, operation on floats can sometimes be inprecise because of that."
   ]
  },
  {
   "cell_type": "code",
   "execution_count": 4,
   "metadata": {},
   "outputs": [
    {
     "data": {
      "text/plain": [
       "0.30000000000000004"
      ]
     },
     "execution_count": 4,
     "metadata": {},
     "output_type": "execute_result"
    }
   ],
   "source": [
    "0.1 + 0.2  #equals 0.3? not for the computer"
   ]
  },
  {
   "cell_type": "markdown",
   "metadata": {},
   "source": [
    "### string\n",
    "`strings` are a data type to store text in. They can be surrounded by either single or double quote."
   ]
  },
  {
   "cell_type": "code",
   "execution_count": 5,
   "metadata": {},
   "outputs": [
    {
     "data": {
      "text/plain": [
       "'I am a string'"
      ]
     },
     "execution_count": 5,
     "metadata": {},
     "output_type": "execute_result"
    }
   ],
   "source": [
    "'I am a string' "
   ]
  },
  {
   "cell_type": "code",
   "execution_count": 6,
   "metadata": {},
   "outputs": [
    {
     "data": {
      "text/plain": [
       "\"I'm a string too\""
      ]
     },
     "execution_count": 6,
     "metadata": {},
     "output_type": "execute_result"
    }
   ],
   "source": [
    "\"I'm a string too\""
   ]
  },
  {
   "cell_type": "markdown",
   "metadata": {},
   "source": [
    "Note that `''` is an empty string."
   ]
  },
  {
   "cell_type": "code",
   "execution_count": 7,
   "metadata": {},
   "outputs": [
    {
     "data": {
      "text/plain": [
       "''"
      ]
     },
     "execution_count": 7,
     "metadata": {},
     "output_type": "execute_result"
    }
   ],
   "source": [
    "''"
   ]
  },
  {
   "cell_type": "markdown",
   "metadata": {},
   "source": [
    "In strings there are special characters called **escape characters** indicated by a backslash. Those include (but are not limited to):\n",
    "  - white characters (like new line `\\n`, tabulature `\\t` etc.)\n",
    "  - quotation mark ( `\\'` and `\\\"` print normal quotation mark and never close the string)\n",
    "  - backslash itself (`\\\\`)"
   ]
  },
  {
   "cell_type": "code",
   "execution_count": 10,
   "metadata": {},
   "outputs": [
    {
     "name": "stdout",
     "output_type": "stream",
     "text": [
      "New line\n",
      "Tabulature\tQuotation marks: ' \"  Backslash \\\n"
     ]
    }
   ],
   "source": [
    "print('New line\\nTabulature\\tQuotation marks: \\' \\\"  Backslash \\\\')  #we'll talk about print in a moment"
   ]
  },
  {
   "cell_type": "markdown",
   "metadata": {},
   "source": [
    "If you do not want those special characters (for example when using Windows path containing backslashes), use **r-strings** (for \"raw strings\")"
   ]
  },
  {
   "cell_type": "code",
   "execution_count": 12,
   "metadata": {},
   "outputs": [
    {
     "name": "stdout",
     "output_type": "stream",
     "text": [
      "New line\\nTabulature\\tQuotation marks: \\' \\\"  Backslash \\\\\n"
     ]
    }
   ],
   "source": [
    "print(r'New line\\nTabulature\\tQuotation marks: \\' \\\"  Backslash \\\\')"
   ]
  },
  {
   "cell_type": "markdown",
   "metadata": {},
   "source": [
    "**BONUS** There is a special kind of string that starts with 3 quotes. It can span for multiple lines. It's use is mostly limited to commenting the code."
   ]
  },
  {
   "cell_type": "code",
   "execution_count": 8,
   "metadata": {},
   "outputs": [
    {
     "data": {
      "text/plain": [
       "'\\nLitwo, Ojczyzno moja\\nTy jesteś jak zdrowie\\nIle Cię trzeba cenić\\nTen tylko się dowie\\n'"
      ]
     },
     "execution_count": 8,
     "metadata": {},
     "output_type": "execute_result"
    }
   ],
   "source": [
    "\"\"\"\n",
    "Litwo, Ojczyzno moja\n",
    "Ty jesteś jak zdrowie\n",
    "Ile Cię trzeba cenić\n",
    "Ten tylko się dowie\n",
    "\"\"\""
   ]
  },
  {
   "cell_type": "markdown",
   "metadata": {},
   "source": [
    "### Basic operations"
   ]
  },
  {
   "cell_type": "markdown",
   "metadata": {},
   "source": [
    "We couldn't do much without **operators** like plus sign, minus sign etc. Let's look at them in examples. Try to predict the outcome before executing given cell."
   ]
  },
  {
   "cell_type": "markdown",
   "metadata": {},
   "source": [
    "**Basic arithmetics**"
   ]
  },
  {
   "cell_type": "code",
   "execution_count": null,
   "metadata": {},
   "outputs": [],
   "source": [
    "5 + 4"
   ]
  },
  {
   "cell_type": "code",
   "execution_count": null,
   "metadata": {},
   "outputs": [],
   "source": [
    "9 - 10"
   ]
  },
  {
   "cell_type": "code",
   "execution_count": null,
   "metadata": {},
   "outputs": [],
   "source": [
    "9.0 - 10  #what type has the result?"
   ]
  },
  {
   "cell_type": "code",
   "execution_count": null,
   "metadata": {},
   "outputs": [],
   "source": [
    "9*1231"
   ]
  },
  {
   "cell_type": "code",
   "execution_count": null,
   "metadata": {},
   "outputs": [],
   "source": [
    "11079/9  #again - what is the type?"
   ]
  },
  {
   "cell_type": "code",
   "execution_count": null,
   "metadata": {},
   "outputs": [],
   "source": [
    "13 / 9"
   ]
  },
  {
   "cell_type": "code",
   "execution_count": null,
   "metadata": {},
   "outputs": [],
   "source": [
    "13 // 9"
   ]
  },
  {
   "cell_type": "code",
   "execution_count": null,
   "metadata": {},
   "outputs": [],
   "source": [
    "13 % 9  #modulo operand - what does it do?"
   ]
  },
  {
   "cell_type": "code",
   "execution_count": null,
   "metadata": {},
   "outputs": [],
   "source": [
    "10 ** 4"
   ]
  },
  {
   "cell_type": "markdown",
   "metadata": {},
   "source": [
    "**String operands**"
   ]
  },
  {
   "cell_type": "code",
   "execution_count": null,
   "metadata": {},
   "outputs": [],
   "source": [
    "\"abc\" + \"def\""
   ]
  },
  {
   "cell_type": "code",
   "execution_count": null,
   "metadata": {},
   "outputs": [],
   "source": [
    "\"abc\" * 3"
   ]
  },
  {
   "cell_type": "code",
   "execution_count": null,
   "metadata": {},
   "outputs": [],
   "source": [
    "len(\"abc\")  #we'll talk about default functions in a minute"
   ]
  },
  {
   "cell_type": "markdown",
   "metadata": {},
   "source": [
    "Of course not every operation is valid. Some examples are listed below. Can you explain what went wrong?"
   ]
  },
  {
   "cell_type": "code",
   "execution_count": null,
   "metadata": {},
   "outputs": [],
   "source": [
    "3/0"
   ]
  },
  {
   "cell_type": "code",
   "execution_count": null,
   "metadata": {},
   "outputs": [],
   "source": [
    "\"abc\" * \"def\""
   ]
  },
  {
   "cell_type": "code",
   "execution_count": null,
   "metadata": {},
   "outputs": [],
   "source": [
    "len(4)"
   ]
  },
  {
   "cell_type": "markdown",
   "metadata": {},
   "source": [
    "Of course you will see more simmilar errors when you will start coding:)"
   ]
  },
  {
   "cell_type": "markdown",
   "metadata": {},
   "source": [
    "### Variables and value assigment\n",
    "Values listed above would be useless, if we couldn't store them anywhere. To keep a single value in the computer memory we will use **variables**. In python we make (of **initialize**) new variable by **assigning** a value to it. There is no need for initializations like in C - the interpreter does it for You! \n",
    "\n",
    "The variable name can contain:\n",
    "   - letters (it's a good practice to start most variable names with small letter at the beggining)\n",
    "   - numbers (but variable names **can't** start with one)\n",
    "   - underscore `_`\n",
    "\n",
    "Valid names include `spam`, `prime_number`, `usr1`, (those 3 are most preferable for simple variables) \n",
    "\n",
    "Also valid, but not always used: `compositeNumber`, `grim_reaper123xxx`, `_` and `Madzia` (starting with capital letter is not preffered)\n",
    "\n",
    "Invalid names include  `100gecs`, `many$`, `Ulubiona Madzia` "
   ]
  },
  {
   "cell_type": "code",
   "execution_count": null,
   "metadata": {},
   "outputs": [],
   "source": [
    "spam = 4  #spam is initialized and a value is assigned to it\n",
    "foo = 5\n",
    "bar = spam * foo\n",
    "bar"
   ]
  },
  {
   "cell_type": "code",
   "execution_count": null,
   "metadata": {},
   "outputs": [],
   "source": [
    "bar = 15\n",
    "bar = \"fifteen\"  #last assigned value is remembered. It can be of any type you want\n",
    "bar"
   ]
  },
  {
   "cell_type": "code",
   "execution_count": null,
   "metadata": {},
   "outputs": [],
   "source": [
    "spam = 9\n",
    "spam = spam + 3 #compute spam + 3 an assign it to spam\n",
    "spam"
   ]
  },
  {
   "cell_type": "code",
   "execution_count": null,
   "metadata": {},
   "outputs": [],
   "source": [
    "spam = 9\n",
    "spam += 3 #the same abbreviated\n",
    "spam"
   ]
  },
  {
   "cell_type": "markdown",
   "metadata": {},
   "source": [
    "### Basic functions\n",
    "Those operands above are just a special way of writing down **functions**.\n",
    "\n",
    "Functions are in programming pretty simillar to those in mathematics - they take some values (called **arguments**) and give some values back. For example the `len` function above took one argument (`\"abc\"`) and returned the length of the string.\n",
    "\n",
    "We will now look at functions that are meant for **converting** one type into another."
   ]
  },
  {
   "cell_type": "code",
   "execution_count": null,
   "metadata": {},
   "outputs": [],
   "source": [
    "spam = 12\n",
    "str(spam)  #convert to string"
   ]
  },
  {
   "cell_type": "code",
   "execution_count": null,
   "metadata": {},
   "outputs": [],
   "source": [
    "spam = '12'\n",
    "int(spam)"
   ]
  },
  {
   "cell_type": "code",
   "execution_count": null,
   "metadata": {},
   "outputs": [],
   "source": [
    "spam = 'fifteen'\n",
    "int(spam)"
   ]
  },
  {
   "cell_type": "code",
   "execution_count": null,
   "metadata": {},
   "outputs": [],
   "source": [
    "spam = 4.7\n",
    "int(spam)"
   ]
  },
  {
   "cell_type": "code",
   "execution_count": null,
   "metadata": {},
   "outputs": [],
   "source": [
    "spam = 4\n",
    "float(spam)"
   ]
  },
  {
   "cell_type": "code",
   "execution_count": null,
   "metadata": {},
   "outputs": [],
   "source": [
    "spam = \"4\"\n",
    "float(spam)"
   ]
  },
  {
   "cell_type": "code",
   "execution_count": null,
   "metadata": {},
   "outputs": [],
   "source": [
    "spam = \"4.2\"\n",
    "int(spam)"
   ]
  },
  {
   "cell_type": "code",
   "execution_count": null,
   "metadata": {},
   "outputs": [],
   "source": [
    "spam = \"4.2\"\n",
    "int(float(spam))"
   ]
  },
  {
   "cell_type": "markdown",
   "metadata": {},
   "source": [
    "Special kinds of functions are **`print()`** and **`input()`** that can show variables to user and take them from him. For example"
   ]
  },
  {
   "cell_type": "code",
   "execution_count": null,
   "metadata": {},
   "outputs": [],
   "source": [
    "prompt = \"Tell me your name: \"\n",
    "name = input(prompt)\n",
    "\n",
    "message = \"Hello \" + name\n",
    "print(message)"
   ]
  },
  {
   "cell_type": "markdown",
   "metadata": {},
   "source": [
    "`input()` **always** gives back a string value, so there is often a need to convert it"
   ]
  },
  {
   "cell_type": "code",
   "execution_count": null,
   "metadata": {},
   "outputs": [],
   "source": [
    "age = input(\"Tell me your age: \")\n",
    "\n",
    "age = int(age)  \n",
    "\n",
    "print(\"In two years you will be\", age + 2, \"years old\")  #note the multiple arguments in `print`"
   ]
  },
  {
   "cell_type": "markdown",
   "metadata": {},
   "source": [
    "Take a look on the `print` function. It can take **unspecified number** of arguments. We will say, how to do that in another notebook. For now let's say - it's just magic.\n",
    "\n",
    "Despite the magicness, this syntax is a little inconvinient. We don't know what the separators are, there a need for necesarry comas and we can't predict, how much space will our variable take.\n",
    "The best way to avoid that is using so called **f-strings** ('f' stays for 'format')."
   ]
  },
  {
   "cell_type": "code",
   "execution_count": null,
   "metadata": {},
   "outputs": [],
   "source": [
    "print(f\"In two years you will be {age + 2} years old\")"
   ]
  },
  {
   "cell_type": "markdown",
   "metadata": {},
   "source": [
    "Furthermore, we can determine how much space every variable will take (useful when printing tables of values):"
   ]
  },
  {
   "cell_type": "code",
   "execution_count": null,
   "metadata": {},
   "outputs": [],
   "source": [
    "print(\"-- 1234567890\")\n",
    "variable = 1000\n",
    "print(f\":2 {variable:2}\")\n",
    "print(f\":4 {variable:4}\")\n",
    "print(f\":6 {variable:6}\")\n",
    "print(f\":9 {variable:9}\")"
   ]
  },
  {
   "cell_type": "markdown",
   "metadata": {},
   "source": [
    "There are more ways to format a string (for example using the `.format()` method) but this one is probably most easy to use."
   ]
  },
  {
   "cell_type": "markdown",
   "metadata": {},
   "source": [
    "### Modules and imports\n",
    "Not every function is build into python. Some of them need to be **imported** to our programs. Imports should be on the top of the `.py` file because other programmers can find easily, what **modules** should be imported.\n",
    "\n",
    "Some modules are stored in so called **standard library** which consists of modules with the most often used and most useful functions. (All of them are listed [here](https://docs.python.org/3/library/)).\n",
    "\n",
    "One of such modules is `math` consisting of more suffisticated constants and functions. Importing and using it is easy:"
   ]
  },
  {
   "cell_type": "code",
   "execution_count": null,
   "metadata": {},
   "outputs": [],
   "source": [
    "import math                #importing module \n",
    "print(math.pi)             #pi value constant (`math.` is necessary!) \n",
    "print(math.sqrt(4))        #square root function\n",
    "print(math.cos(math.pi))"
   ]
  },
  {
   "cell_type": "markdown",
   "metadata": {},
   "source": [
    "You can abbriviate the suffix by using `as`"
   ]
  },
  {
   "cell_type": "code",
   "execution_count": null,
   "metadata": {},
   "outputs": [],
   "source": [
    "import math as mth\n",
    "print(mth.cos(mth.pi))"
   ]
  },
  {
   "cell_type": "markdown",
   "metadata": {},
   "source": [
    "Sometimes it's handy to take only few constants/functions. Then we can use `from <module> import <func1>, <func2>...` syntax as follows:"
   ]
  },
  {
   "cell_type": "code",
   "execution_count": null,
   "metadata": {},
   "outputs": [],
   "source": [
    "from math import pi, cos\n",
    "\n",
    "print(cos(pi))"
   ]
  },
  {
   "cell_type": "markdown",
   "metadata": {},
   "source": [
    "It's also possible to use `from <module> import *` which gives you all modules but it's generally not recommeded because names (of functions and constants) from the module can **shadow** names from your program and other modules, causing unexpected and hard to detect errors."
   ]
  },
  {
   "cell_type": "code",
   "execution_count": null,
   "metadata": {},
   "outputs": [],
   "source": [
    "pi = \"pierogi ruskie\"\n",
    "cos = \"cos waznego\"\n",
    "\n",
    "from math import *\n",
    "\n",
    "\n",
    "print(pi)\n",
    "print(cos)"
   ]
  },
  {
   "cell_type": "markdown",
   "metadata": {},
   "source": [
    "We will talk more about shadowing in another notebook."
   ]
  },
  {
   "cell_type": "markdown",
   "metadata": {},
   "source": [
    "## Practice questions\n",
    "\n",
    "1. What is wrong with this expresions? Can You make them work? "
   ]
  },
  {
   "cell_type": "code",
   "execution_count": null,
   "metadata": {},
   "outputs": [],
   "source": [
    "number_of_genes = 20000\n",
    "print(\"Humans have\" + number_of_genes + \"genes\")\n"
   ]
  },
  {
   "cell_type": "code",
   "execution_count": null,
   "metadata": {},
   "outputs": [],
   "source": [
    "n = input(\"Give number of pigs: \")\n",
    "n_pigs = n * \"pig\"  \n",
    "print(n_pigs)"
   ]
  },
  {
   "cell_type": "markdown",
   "metadata": {},
   "source": [
    "2. Write a program that asks the user for their weight (in kilograms) and height (in centimeter) and prints their BMI."
   ]
  },
  {
   "cell_type": "code",
   "execution_count": null,
   "metadata": {},
   "outputs": [],
   "source": [
    "# space for your code\n",
    "\n",
    "result = #????\n",
    "print(result)"
   ]
  },
  {
   "cell_type": "markdown",
   "metadata": {},
   "source": [
    "3. Write a program that asks the user for their name, field of study, city of their university, current year of studies and the year when they started. Then, assuming the studies last for 5 years print, what their probable graduation year is. Remember to format the print in a way that all variables take (aproximately) the same space."
   ]
  },
  {
   "cell_type": "code",
   "execution_count": null,
   "metadata": {},
   "outputs": [],
   "source": [
    "### Possible print\n",
    "\n",
    "'''\n",
    "Name:      John Doe\n",
    "Field:      Biology\n",
    "Uni. city:   Cracow\n",
    "Graduation:    2024\n",
    "'''\n"
   ]
  },
  {
   "cell_type": "markdown",
   "metadata": {},
   "source": [
    "4. Using the `math` module [documentation is here](https://docs.python.org/3/library/math.html) write a program that computes:\n",
    "      - area of the circle based on radius given by user \n",
    "      - cotangent of deegrees given by user\n",
    "      - number of possible outcomes in a lottery where you mark `k` numbers from a set of `n` (like in \"duży lotek\")"
   ]
  },
  {
   "cell_type": "code",
   "execution_count": null,
   "metadata": {},
   "outputs": [],
   "source": [
    "# first program\n",
    "\n",
    "from ???\n",
    "\n",
    "radius = input(\"Give radius of a circle: \")\n",
    "\n",
    "#write your program here\n",
    "\n",
    "result = ???     # this variable holds the result \n",
    "result_message = # write message using f-string\n",
    "print(result_message)"
   ]
  },
  {
   "cell_type": "code",
   "execution_count": null,
   "metadata": {},
   "outputs": [],
   "source": [
    "# second program\n",
    "\n",
    "from ???\n",
    "\n",
    "angle = input(\"Give angle in deegrees: \")\n",
    "\n",
    "#write your program here\n",
    "\n",
    "result = ???     # this variable holds the result \n",
    "result_message = # write message using f-string\n",
    "print(result_message)"
   ]
  },
  {
   "cell_type": "code",
   "execution_count": null,
   "metadata": {},
   "outputs": [],
   "source": [
    "# third program\n",
    "\n",
    "from ???\n",
    "\n",
    "k = input(\"How many numbers can you choose? \")\n",
    "n = input(\"How many numbers there are? \")\n",
    "\n",
    "#write your program here\n",
    "\n",
    "result = ???     # this variable holds the result \n",
    "result_message = # write message using f-string\n",
    "print(result_message)"
   ]
  }
 ],
 "metadata": {
  "kernelspec": {
   "display_name": "Python 3",
   "language": "python",
   "name": "python3"
  },
  "language_info": {
   "codemirror_mode": {
    "name": "ipython",
    "version": 3
   },
   "file_extension": ".py",
   "mimetype": "text/x-python",
   "name": "python",
   "nbconvert_exporter": "python",
   "pygments_lexer": "ipython3",
   "version": "3.7.6"
  }
 },
 "nbformat": 4,
 "nbformat_minor": 4
}
